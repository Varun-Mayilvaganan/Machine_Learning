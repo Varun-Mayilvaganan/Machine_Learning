{
  "nbformat": 4,
  "nbformat_minor": 0,
  "metadata": {
    "colab": {
      "provenance": [],
      "authorship_tag": "ABX9TyPmIrFdvyCXMwRxFmQ70Gwi",
      "include_colab_link": true
    },
    "kernelspec": {
      "name": "python3",
      "display_name": "Python 3"
    },
    "language_info": {
      "name": "python"
    }
  },
  "cells": [
    {
      "cell_type": "markdown",
      "metadata": {
        "id": "view-in-github",
        "colab_type": "text"
      },
      "source": [
        "<a href=\"https://colab.research.google.com/github/Varun-Mayilvaganan/Machine_Learning/blob/main/numpy.ipynb\" target=\"_parent\"><img src=\"https://colab.research.google.com/assets/colab-badge.svg\" alt=\"Open In Colab\"/></a>"
      ]
    },
    {
      "cell_type": "code",
      "execution_count": 2,
      "metadata": {
        "colab": {
          "base_uri": "https://localhost:8080/"
        },
        "id": "hlmgu9GjplHA",
        "outputId": "6aae77c6-b85a-4761-9ed5-49724d586b55"
      },
      "outputs": [
        {
          "output_type": "stream",
          "name": "stdout",
          "text": [
            "0.00015722300000042821\n"
          ]
        }
      ],
      "source": [
        "import numpy as np\n",
        "from time import process_time #time taken=>start\n",
        "nd = np.array([1,2,3])\n",
        "start = process_time()\n",
        "nd = [i*5 for i in nd]#list compre\n",
        "end = process_time()#end\n",
        "print(end-start)"
      ]
    },
    {
      "cell_type": "code",
      "source": [
        "nde = [i for i in range(3)]\n",
        "start = process_time()\n",
        "nd = [i*5 for i in nde]\n",
        "end = process_time()\n",
        "print(end-start)"
      ],
      "metadata": {
        "colab": {
          "base_uri": "https://localhost:8080/"
        },
        "id": "lGSF0kmtq0R4",
        "outputId": "f8a24d5e-ef00-4f3d-920a-fb74c6b70f9e"
      },
      "execution_count": null,
      "outputs": [
        {
          "output_type": "stream",
          "name": "stdout",
          "text": [
            "0.00017066799999998494\n"
          ]
        }
      ]
    },
    {
      "cell_type": "code",
      "source": [
        "nd = np.array([[1,2,3]])\n",
        "nd.shape"
      ],
      "metadata": {
        "colab": {
          "base_uri": "https://localhost:8080/"
        },
        "id": "RBVpMABTupQz",
        "outputId": "378abf36-20c1-49ac-854b-db89d58d477e"
      },
      "execution_count": null,
      "outputs": [
        {
          "output_type": "execute_result",
          "data": {
            "text/plain": [
              "(1, 3)"
            ]
          },
          "metadata": {},
          "execution_count": 8
        }
      ]
    },
    {
      "cell_type": "code",
      "source": [
        "a = np.arange(6)#0,1,2,3,4,5 a\n",
        "a2 = a[0:3]\n",
        "a3 = a[np.newaxis, 0:2]\n",
        "a2.shape\n",
        "print(a)\n",
        "print(a2)\n",
        "print(a3)"
      ],
      "metadata": {
        "colab": {
          "base_uri": "https://localhost:8080/"
        },
        "id": "Cv3dDx_pwmkp",
        "outputId": "7dfbb4e9-206a-4f8d-f27c-0c91a6d2500f"
      },
      "execution_count": null,
      "outputs": [
        {
          "output_type": "stream",
          "name": "stdout",
          "text": [
            "[0 1 2 3 4 5]\n",
            "[0 1 2]\n",
            "[[0 1]]\n"
          ]
        }
      ]
    },
    {
      "cell_type": "code",
      "source": [
        "a = np.ones(5, dtype = np.int64)\n",
        "b = np.empty(3, dtype = np.int64)\n",
        "b[0] = 1\n",
        "b[1] = 2\n",
        "b[2] = 3\n",
        "print(b)"
      ],
      "metadata": {
        "colab": {
          "base_uri": "https://localhost:8080/"
        },
        "id": "hcaEFtex2CCc",
        "outputId": "9266f77f-d913-4879-ab33-663af75c6a0b"
      },
      "execution_count": null,
      "outputs": [
        {
          "output_type": "stream",
          "name": "stdout",
          "text": [
            "[1 2 3]\n"
          ]
        }
      ]
    },
    {
      "cell_type": "code",
      "source": [
        "np.arange(2, 9, 2)"
      ],
      "metadata": {
        "colab": {
          "base_uri": "https://localhost:8080/"
        },
        "id": "6Crj7-vS5sRm",
        "outputId": "e0cdf19b-9eb9-4114-a5e0-456fedbe37e0"
      },
      "execution_count": null,
      "outputs": [
        {
          "output_type": "execute_result",
          "data": {
            "text/plain": [
              "array([2, 4, 6, 8])"
            ]
          },
          "metadata": {},
          "execution_count": 51
        }
      ]
    },
    {
      "cell_type": "code",
      "source": [
        "b = np.array([(1,2,35,6,7)])\n",
        "b.shape"
      ],
      "metadata": {
        "colab": {
          "base_uri": "https://localhost:8080/"
        },
        "id": "1J_RJz1c4SSZ",
        "outputId": "9cfa764c-b88e-40b0-860f-b875062a3c23"
      },
      "execution_count": null,
      "outputs": [
        {
          "output_type": "execute_result",
          "data": {
            "text/plain": [
              "(1, 5)"
            ]
          },
          "metadata": {},
          "execution_count": 46
        }
      ]
    },
    {
      "cell_type": "code",
      "source": [
        "np.linspace(0, 5, num=3)"
      ],
      "metadata": {
        "colab": {
          "base_uri": "https://localhost:8080/"
        },
        "id": "RkhJ4p1f54fD",
        "outputId": "c615674c-758a-4ac7-da4f-9e51528046dc"
      },
      "execution_count": null,
      "outputs": [
        {
          "output_type": "execute_result",
          "data": {
            "text/plain": [
              "array([0. , 2.5, 5. ])"
            ]
          },
          "metadata": {},
          "execution_count": 55
        }
      ]
    },
    {
      "cell_type": "code",
      "source": [
        "x = np.ones(2, dtype=np.int64)\n",
        "x"
      ],
      "metadata": {
        "colab": {
          "base_uri": "https://localhost:8080/"
        },
        "id": "9qrwbQi_6bcl",
        "outputId": "4896b4bb-1391-4b66-9e63-a93ec4e4d537"
      },
      "execution_count": null,
      "outputs": [
        {
          "output_type": "execute_result",
          "data": {
            "text/plain": [
              "array([1, 1])"
            ]
          },
          "metadata": {},
          "execution_count": 56
        }
      ]
    },
    {
      "cell_type": "code",
      "source": [
        "arr = np.array([2, 1, 5, 3, 7, 4, 6, 8])\n",
        "np.sort(arr)"
      ],
      "metadata": {
        "colab": {
          "base_uri": "https://localhost:8080/"
        },
        "id": "N5RxRy3i6gxq",
        "outputId": "ae534b47-b9a5-468d-8d9b-fc8dc764ff97"
      },
      "execution_count": null,
      "outputs": [
        {
          "output_type": "execute_result",
          "data": {
            "text/plain": [
              "array([1, 2, 3, 4, 5, 6, 7, 8])"
            ]
          },
          "metadata": {},
          "execution_count": 57
        }
      ]
    },
    {
      "cell_type": "code",
      "source": [
        "# a = np.array([1, 2, 3, 4])\n",
        "# b = np.array([5, 6, 7, 8])\n",
        "# np.concatenate((a,b))\n",
        "x = np.array([[1, 2], [3, 4]])\n",
        "y = np.array([[5, 6], [9, 8]])\n",
        "np.concatenate((x,y), axis =1)"
      ],
      "metadata": {
        "colab": {
          "base_uri": "https://localhost:8080/"
        },
        "id": "Fwq6ujq861L2",
        "outputId": "ffb0c738-9820-4c7d-8488-69f398ee2f85"
      },
      "execution_count": null,
      "outputs": [
        {
          "output_type": "execute_result",
          "data": {
            "text/plain": [
              "array([[1, 2, 5, 6],\n",
              "       [3, 4, 9, 8]])"
            ]
          },
          "metadata": {},
          "execution_count": 64
        }
      ]
    },
    {
      "cell_type": "code",
      "source": [
        "ex = np.array([\n",
        "            (1,2,3),\n",
        "             (4,4,6),\n",
        "            [1,2,30],\n",
        "             [3,5,7],\n",
        "            ])\n",
        "print(ex.ndim)\n",
        "print(ex.size)\n",
        "print(ex.shape)\n",
        "print(ex.reshape(3,4))\n",
        "print(np.transpose(ex))"
      ],
      "metadata": {
        "colab": {
          "base_uri": "https://localhost:8080/"
        },
        "id": "JozpuvsW86ML",
        "outputId": "4eddbd78-e7ed-4c1d-94c5-9fa18a2d5157"
      },
      "execution_count": 9,
      "outputs": [
        {
          "output_type": "stream",
          "name": "stdout",
          "text": [
            "2\n",
            "12\n",
            "(4, 3)\n",
            "[[ 1  2  3  4]\n",
            " [ 4  6  1  2]\n",
            " [30  3  5  7]]\n",
            "[[ 1  4  1  3]\n",
            " [ 2  4  2  5]\n",
            " [ 3  6 30  7]]\n"
          ]
        }
      ]
    },
    {
      "cell_type": "code",
      "source": [
        "a = np.arange(6).reshape(3,2)\n",
        "print(a)\n",
        "np.reshape(a, newshape=(2,3),order='F')"
      ],
      "metadata": {
        "colab": {
          "base_uri": "https://localhost:8080/"
        },
        "id": "3ZdAoS_79GNG",
        "outputId": "4a90bdeb-57c1-4be3-d2de-c0d7382f75ab"
      },
      "execution_count": null,
      "outputs": [
        {
          "output_type": "stream",
          "name": "stdout",
          "text": [
            "[[0 1]\n",
            " [2 3]\n",
            " [4 5]]\n"
          ]
        },
        {
          "output_type": "execute_result",
          "data": {
            "text/plain": [
              "array([[0, 4, 3],\n",
              "       [2, 1, 5]])"
            ]
          },
          "metadata": {},
          "execution_count": 85
        }
      ]
    },
    {
      "cell_type": "code",
      "source": [
        "a = np.eye(4,dtype=int)\n",
        "a"
      ],
      "metadata": {
        "colab": {
          "base_uri": "https://localhost:8080/"
        },
        "id": "pOCSVm0_C4PA",
        "outputId": "96f1281c-0208-4a1e-f538-8fcf839f81f7"
      },
      "execution_count": null,
      "outputs": [
        {
          "output_type": "execute_result",
          "data": {
            "text/plain": [
              "array([[1, 0, 0, 0],\n",
              "       [0, 1, 0, 0],\n",
              "       [0, 0, 1, 0],\n",
              "       [0, 0, 0, 1]])"
            ]
          },
          "metadata": {},
          "execution_count": 91
        }
      ]
    },
    {
      "cell_type": "code",
      "source": [
        "b = np.random.random((3,4))\n",
        "b"
      ],
      "metadata": {
        "colab": {
          "base_uri": "https://localhost:8080/"
        },
        "id": "XkajYr5mDSlF",
        "outputId": "4dfb625a-d698-4c1f-bc8c-886cb66844aa"
      },
      "execution_count": null,
      "outputs": [
        {
          "output_type": "execute_result",
          "data": {
            "text/plain": [
              "array([[0.90031479, 0.70318613, 0.14318309, 0.97596909],\n",
              "       [0.96424294, 0.73479508, 0.78722167, 0.19983175],\n",
              "       [0.54425776, 0.36457399, 0.45906734, 0.4317779 ]])"
            ]
          },
          "metadata": {},
          "execution_count": 95
        }
      ]
    },
    {
      "cell_type": "code",
      "source": [
        "c = np.random.randint(1,5,(1,2))\n",
        "c"
      ],
      "metadata": {
        "colab": {
          "base_uri": "https://localhost:8080/"
        },
        "id": "WT12oudUEdws",
        "outputId": "a8b71aff-8f01-4719-e008-aebbd56a2982"
      },
      "execution_count": null,
      "outputs": [
        {
          "output_type": "execute_result",
          "data": {
            "text/plain": [
              "array([[2, 3]])"
            ]
          },
          "metadata": {},
          "execution_count": 115
        }
      ]
    },
    {
      "cell_type": "code",
      "source": [
        "a = np.random.randint(10,100,(3,3))\n",
        "b = np.random.randint(10,100,(3,3))\n",
        "print(a)\n",
        "print(b)\n",
        "np.add(a,b)"
      ],
      "metadata": {
        "colab": {
          "base_uri": "https://localhost:8080/"
        },
        "id": "gOxdFeLiYuWz",
        "outputId": "e8af170d-5fd3-42d3-88e5-4ddb09e20e2a"
      },
      "execution_count": 5,
      "outputs": [
        {
          "output_type": "stream",
          "name": "stdout",
          "text": [
            "[[58 10 14]\n",
            " [20 82 64]\n",
            " [49 40 71]]\n",
            "[[79 23 41]\n",
            " [81 33 78]\n",
            " [39 34 38]]\n"
          ]
        },
        {
          "output_type": "execute_result",
          "data": {
            "text/plain": [
              "array([[137,  33,  55],\n",
              "       [101, 115, 142],\n",
              "       [ 88,  74, 109]])"
            ]
          },
          "metadata": {},
          "execution_count": 5
        }
      ]
    }
  ]
}