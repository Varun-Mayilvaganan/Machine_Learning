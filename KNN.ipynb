{
  "nbformat": 4,
  "nbformat_minor": 0,
  "metadata": {
    "colab": {
      "provenance": [],
      "authorship_tag": "ABX9TyMj185nBt1WlqSfQaFA8DMX",
      "include_colab_link": true
    },
    "kernelspec": {
      "name": "python3",
      "display_name": "Python 3"
    },
    "language_info": {
      "name": "python"
    }
  },
  "cells": [
    {
      "cell_type": "markdown",
      "metadata": {
        "id": "view-in-github",
        "colab_type": "text"
      },
      "source": [
        "<a href=\"https://colab.research.google.com/github/Varun-Mayilvaganan/Machine_Learning/blob/main/KNN.ipynb\" target=\"_parent\"><img src=\"https://colab.research.google.com/assets/colab-badge.svg\" alt=\"Open In Colab\"/></a>"
      ]
    },
    {
      "cell_type": "code",
      "execution_count": 1,
      "metadata": {
        "id": "6eXztIvNltA1"
      },
      "outputs": [],
      "source": [
        "import numpy as np\n",
        "import statistics"
      ]
    },
    {
      "cell_type": "code",
      "source": [
        "class KNN_Classifier():\n",
        "    def __int__(self, distance_metric):\n",
        "        self.distance_metric = distance_metric\n",
        "\n",
        "    def get_distance_metric(self, training_data_point, test_data_point):\n",
        "        if(self.distance_metric == 'euclidean'):\n",
        "            dist = 0\n",
        "            for i in range(len(training_data_point)-1):\n",
        "                dist = dist + (training_data_point[i] - test_data_point[i])**2\n",
        "            euclidean_dist =np.sqrt(dist)\n",
        "\n",
        "            return euclidean_dist\n",
        "\n",
        "        elif(self.distance_metric == 'manhattan'):\n",
        "            dist = 0\n",
        "            for i in range(len(training_data_point)-1):\n",
        "                dist = dist + abs(training_data_point[i] - test_data_point[i])\n",
        "            manhattan_dist =np.sqrt(dist)\n",
        "\n",
        "            return manhattan_dist\n",
        "\n",
        "    def nearest_neighbors(self, X_train, test_data, k):\n",
        "        distance_list = []\n",
        "\n",
        "        for training_data in X_train:\n",
        "            distance = self.get_distance_metric(training_data, test_data)\n",
        "            distance_list.append(training_data, distance)\n",
        "        distance_list.sort(key=lambda x:x[1])\n",
        "        neighbors = []\n",
        "\n",
        "        for j in range(k):\n",
        "            neighbors.append(distance_list[j][0])\n",
        "\n",
        "        return neighbors\n",
        "\n",
        "    def predict(self, X_train, test_data, k):\n",
        "        n = self.nearest_neighbors(X_train, test_data, k)\n",
        "\n",
        "        for data in n:\n",
        "            label = []\n",
        "            label.append(data[-1])\n",
        "\n",
        "        predicted = statistics.mode(label)\n",
        "\n",
        "        return predicted\n",
        "\n",
        "\n"
      ],
      "metadata": {
        "id": "8qfltX8Il8SA"
      },
      "execution_count": 2,
      "outputs": []
    }
  ]
}